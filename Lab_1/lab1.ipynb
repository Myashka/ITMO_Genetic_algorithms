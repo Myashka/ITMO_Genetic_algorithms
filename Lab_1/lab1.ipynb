{
 "cells": [
  {
   "cell_type": "code",
   "execution_count": 1,
   "metadata": {},
   "outputs": [],
   "source": [
    "import time\n",
    "import sys\n",
    "import tracemalloc\n",
    "import random\n",
    "\n",
    "random.seed(42)"
   ]
  },
  {
   "cell_type": "markdown",
   "metadata": {},
   "source": [
    "# Алгоритм Дейкстры\n",
    "\n",
    "## Формат данных\n",
    "\n",
    "### Входные данные\n",
    "- **`graph`:** Словарь, представляющий граф. Ключи словаря - это вершины, значения - другие словари, где каждый ключ - это соседняя вершина, а значение - вес ребра до этой вершины.\n",
    "- **`start_vertex`:** начальная вершина, с которой начинается поиск кратчайшего пути.\n",
    "\n",
    "### Выходные данные\n",
    "\n",
    "- **`distances`:** Словарь, где ключ - вершина, значение - расстояние от start_vertex до этой вершины. Если вершина недостижима, значение может быть обозначено как `float('inf')`, в зависимости от реализации алгоритма."
   ]
  },
  {
   "cell_type": "code",
   "execution_count": 12,
   "metadata": {},
   "outputs": [],
   "source": [
    "def correctness_test(dijkstra_alg):\n",
    "    small_graph = {\n",
    "        0: {1: 4, 2: 1},\n",
    "        1: {0: 4, 3: 1, 2: 2},\n",
    "        2: {0: 1, 1: 2, 3: 5},\n",
    "        3: {1: 1, 2: 5, 4: 3},\n",
    "        4: {3: 3},\n",
    "        5: {}\n",
    "    }\n",
    "    start_vertex = 0\n",
    "    small_graph_result = dijkstra_alg(small_graph, start_vertex)\n",
    "    \n",
    "    expected_distances = {0: 0, 1: 3, 2: 1, 3: 4, 4: 7, 5: float('inf')}\n",
    "    \n",
    "    assert small_graph_result == expected_distances, f\"Expected {expected_distances}, got {small_graph_result}\"\n",
    "    print(\"Тест на малом наборе данных пройден успешно.\")\n",
    "    \n",
    "def performance_test(dijkstra_alg):\n",
    "    for num_vertices in [1000, 5000, 10000, 25000, 50000, 100000]:\n",
    "        large_graph = {i: {} for i in range(num_vertices)}\n",
    "        for _ in range(num_vertices * 100):\n",
    "            a, b = random.randint(0, num_vertices-1), random.randint(0, num_vertices-1)\n",
    "            weight = random.randint(1, 10)\n",
    "            large_graph[a][b] = weight\n",
    "        \n",
    "        start_vertex = 0\n",
    "\n",
    "        tracemalloc.start()\n",
    "        start_time = time.time()\n",
    "\n",
    "        results = dijkstra_alg(large_graph, start_vertex)\n",
    "\n",
    "        elapsed_time = time.time() - start_time\n",
    "        current, peak = tracemalloc.get_traced_memory()\n",
    "        tracemalloc.stop()\n",
    "\n",
    "        print(f\"Тест для {num_vertices} вершин\")\n",
    "        print(f\"Время выполнения: {elapsed_time:.4f} сек\")\n",
    "        print(f\"Использовано памяти: {current / 10**6:.4f} MB, Пиковое использование: {peak / 10**6:.4f} MB\")\n",
    "        print(\"------\")\n"
   ]
  },
  {
   "cell_type": "markdown",
   "metadata": {},
   "source": [
    "## Базовая реализация"
   ]
  },
  {
   "cell_type": "code",
   "execution_count": 13,
   "metadata": {},
   "outputs": [],
   "source": [
    "def dijkstra_basic(graph, start_vertex):\n",
    "    # Инициализируем расстояния бесконечностью и обнуляем расстояние от стартовой вершины\n",
    "    d = {v: float('inf') for v in graph}\n",
    "    d[start_vertex] = 0\n",
    "\n",
    "    # Используем множество для отслеживания необработанных вершин\n",
    "    unvisited = set(graph)\n",
    "\n",
    "    while unvisited:\n",
    "        # Выбираем необработанную вершину с минимальным расстоянием\n",
    "        current_vertex = min(unvisited, key=lambda vertex: d[vertex])\n",
    "\n",
    "        # Если минимальное расстояние бесконечно, оставшиеся вершины недостижимы\n",
    "        if d[current_vertex] == float('inf'):\n",
    "            break\n",
    "\n",
    "        unvisited.remove(current_vertex)\n",
    "\n",
    "        # Рассматриваем каждое соседнее ребро исходящее из текущей вершины\n",
    "        for neighbor, weight in graph[current_vertex].items():\n",
    "            if neighbor in unvisited:\n",
    "                # Релаксация ребра\n",
    "                new_distance = d[current_vertex] + weight\n",
    "                if new_distance < d[neighbor]:\n",
    "                    d[neighbor] = new_distance\n",
    "\n",
    "    return d\n"
   ]
  },
  {
   "cell_type": "code",
   "execution_count": 14,
   "metadata": {},
   "outputs": [
    {
     "name": "stdout",
     "output_type": "stream",
     "text": [
      "Тест на малом наборе данных пройден успешно.\n",
      "Тест для 1000 вершин\n",
      "Время выполнения: 0.0511 сек\n",
      "Использовано памяти: 0.0390 MB, Пиковое использование: 0.0918 MB\n",
      "------\n",
      "Тест для 5000 вершин\n",
      "Время выполнения: 1.2088 сек\n",
      "Использовано памяти: 0.1497 MB, Пиковое использование: 0.5277 MB\n",
      "------\n",
      "Тест для 10000 вершин\n",
      "Время выполнения: 4.1882 сек\n",
      "Использовано памяти: 0.2973 MB, Пиковое использование: 1.0573 MB\n",
      "------\n",
      "Тест для 25000 вершин\n",
      "Время выполнения: 23.9201 сек\n",
      "Использовано памяти: 1.3138 MB, Пиковое использование: 2.9574 MB\n",
      "------\n",
      "Тест для 50000 вершин\n",
      "Время выполнения: 99.3462 сек\n",
      "Использовано памяти: 2.6248 MB, Пиковое использование: 5.9167 MB\n",
      "------\n",
      "Тест для 100000 вершин\n",
      "Время выполнения: 395.5662 сек\n",
      "Использовано памяти: 5.2462 MB, Пиковое использование: 11.8353 MB\n",
      "------\n"
     ]
    }
   ],
   "source": [
    "correctness_test(dijkstra_basic)\n",
    "performance_test(dijkstra_basic)"
   ]
  },
  {
   "cell_type": "markdown",
   "metadata": {},
   "source": [
    "### Временная сложность\n",
    "\n",
    "`V` раз осуществляем поиск вершины с минимальной величиной `d` среди `O(V)` непомеченных вершин и `E` раз проводим релаксацию за `O(1)`. Итак, общее время `O(V^2 + E)`\n",
    "\n",
    "### Сложность по памяти\n",
    "- **Хранение расстояний:** Для каждой вершины графа хранится текущее минимальное расстояние от начальной вершины, что требует `O(V)` памяти.\n",
    "- **Множество необработанных вершин:** Для отслеживания необработанных вершин используется множество, которое также требует `O(V)` памяти\n",
    "- **Хранение графа:** Входные данные графа (вершины и рёбра) требуют `O(V+E)` памяти.\n",
    "\n",
    "Общая сложность по памяти `O(V+E)`"
   ]
  },
  {
   "cell_type": "markdown",
   "metadata": {},
   "source": [
    "## Двоичная куча"
   ]
  },
  {
   "cell_type": "code",
   "execution_count": 16,
   "metadata": {},
   "outputs": [],
   "source": [
    "import heapq\n",
    "\n",
    "def dijkstra_heap(graph, start_vertex):\n",
    "    d = {v: float('inf') for v in graph}\n",
    "    d[start_vertex] = 0\n",
    "    \n",
    "    # Инициализируем кучу с начальной вершиной\n",
    "    heap = [(0, start_vertex)]\n",
    "    \n",
    "    while heap:\n",
    "        current_distance, current_vertex = heapq.heappop(heap)\n",
    "        \n",
    "        if current_distance > d[current_vertex]:\n",
    "            continue\n",
    "        \n",
    "        for neighbor, weight in graph[current_vertex].items():\n",
    "            distance = current_distance + weight\n",
    "            if distance < d[neighbor]:\n",
    "                d[neighbor] = distance\n",
    "                heapq.heappush(heap, (distance, neighbor))\n",
    "    \n",
    "    return d\n"
   ]
  },
  {
   "cell_type": "code",
   "execution_count": 17,
   "metadata": {},
   "outputs": [
    {
     "name": "stdout",
     "output_type": "stream",
     "text": [
      "Тест на малом наборе данных пройден успешно.\n",
      "Тест для 1000 вершин\n",
      "Время выполнения: 0.0171 сек\n",
      "Использовано памяти: 0.0557 MB, Пиковое использование: 0.0763 MB\n",
      "------\n",
      "Тест для 5000 вершин\n",
      "Время выполнения: 0.1364 сек\n",
      "Использовано памяти: 0.2506 MB, Пиковое использование: 0.7653 MB\n",
      "------\n",
      "Тест для 10000 вершин\n",
      "Время выполнения: 0.3159 сек\n",
      "Использовано памяти: 0.4030 MB, Пиковое использование: 1.6048 MB\n",
      "------\n",
      "Тест для 25000 вершин\n",
      "Время выполнения: 1.0350 сек\n",
      "Использовано памяти: 1.4225 MB, Пиковое использование: 4.6748 MB\n",
      "------\n",
      "Тест для 50000 вершин\n",
      "Время выполнения: 2.0798 сек\n",
      "Использовано памяти: 2.7348 MB, Пиковое использование: 9.7088 MB\n",
      "------\n",
      "Тест для 100000 вершин\n",
      "Время выполнения: 5.5225 сек\n",
      "Использовано памяти: 5.3568 MB, Пиковое использование: 19.1792 MB\n",
      "------\n"
     ]
    }
   ],
   "source": [
    "correctness_test(dijkstra_heap)\n",
    "performance_test(dijkstra_heap)"
   ]
  },
  {
   "cell_type": "markdown",
   "metadata": {},
   "source": [
    "### Временная сложность\n",
    "\n",
    "Используя двоичную кучу можно выполнять операции извлечения минимума и обновления элемента за `O(logV)`. Тогда время работы алгоритма Дейкстры составит `O(VlogV+ElogV)=O(ElogV)`\n",
    "### Сложность по памяти\n",
    "- **Хранение расстояний:** Для каждой вершины графа хранится текущее минимальное расстояние от начальной вершины, что требует `O(V)` памяти.\n",
    "- **Множество необработанных вершин:** Для отслеживания необработанных вершин используется множество, которое также требует `O(V)` памяти\n",
    "- **Хранение графа:** Входные данные графа (вершины и рёбра) требуют `O(V+E)` памяти.\n",
    "\n",
    "Общая сложность по памяти `O(V+E)`"
   ]
  },
  {
   "cell_type": "code",
   "execution_count": 22,
   "metadata": {},
   "outputs": [
    {
     "data": {
      "image/png": "[encoded data removed]",
      "text/plain": [
       "<Figure size 1000x600 with 1 Axes>"
      ]
     },
     "metadata": {},
     "output_type": "display_data"
    }
   ],
   "source": [
    "import matplotlib.pyplot as plt\n",
    "import numpy as np\n",
    "\n",
    "vertices = np.array([1000, 5000, 10000, 25000, 50000, 100000])\n",
    "times_heap = np.array([0.0171, 0.1364, 0.3159, 1.0350, 2.0798, 5.5225])\n",
    "\n",
    "times_basic = np.array([0.0511, 1.2088, 4.1882, 23.9201, 99.3462, 395.5662])\n",
    "\n",
    "# Построение графиков на одном plot\n",
    "plt.figure(figsize=(10, 6))\n",
    "plt.plot(\n",
    "    vertices,\n",
    "    times_heap,\n",
    "    marker=\"o\",\n",
    "    linestyle=\"-\",\n",
    "    color=\"b\",\n",
    "    label=\"Heap (E*log(V))\",\n",
    ")\n",
    "plt.plot(\n",
    "    vertices,\n",
    "    times_basic,\n",
    "    marker=\"o\",\n",
    "    linestyle=\"-\",\n",
    "    color=\"r\",\n",
    "    label=\"Basic (V^2)\",\n",
    ")\n",
    "\n",
    "plt.title(\"Зависимость времени выполнения от количества вершин в графе\")\n",
    "plt.xlabel(\"Количество элементов'\")\n",
    "plt.ylabel(\"Время выполнения (сек)\")\n",
    "plt.legend()\n",
    "plt.grid(True)\n",
    "plt.show()"
   ]
  },
  {
   "cell_type": "code",
   "execution_count": null,
   "metadata": {},
   "outputs": [],
   "source": []
  }
 ],
 "metadata": {
  "kernelspec": {
   "display_name": "tlab",
   "language": "python",
   "name": "python3"
  },
  "language_info": {
   "codemirror_mode": {
    "name": "ipython",
    "version": 3
   },
   "file_extension": ".py",
   "mimetype": "text/x-python",
   "name": "python",
   "nbconvert_exporter": "python",
   "pygments_lexer": "ipython3",
   "version": "3.11.7"
  }
 },
 "nbformat": 4,
 "nbformat_minor": 2
}
